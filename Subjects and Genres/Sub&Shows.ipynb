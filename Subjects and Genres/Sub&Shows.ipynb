{
  "nbformat": 4,
  "nbformat_minor": 0,
  "metadata": {
    "colab": {
      "name": "apriori.ipynb",
      "provenance": [],
      "collapsed_sections": [],
      "toc_visible": true
    },
    "kernelspec": {
      "name": "python3",
      "display_name": "Python 3"
    }
  },
  "cells": [
    {
      "cell_type": "markdown",
      "metadata": {
        "id": "1fziHl7Ar94J",
        "colab_type": "text"
      },
      "source": [
        "# Apriori"
      ]
    },
    {
      "cell_type": "markdown",
      "metadata": {
        "id": "eiNwni1xsEgT",
        "colab_type": "text"
      },
      "source": [
        "## Importing the libraries"
      ]
    },
    {
      "cell_type": "code",
      "metadata": {
        "id": "DUF77Qr1vqyM",
        "colab_type": "code",
        "colab": {
          "base_uri": "https://localhost:8080/",
          "height": 173
        },
        "outputId": "cca16612-b2b2-414c-93ab-363787f60cd6"
      },
      "source": [
        "!pip install apyori"
      ],
      "execution_count": 1,
      "outputs": [
        {
          "output_type": "stream",
          "text": [
            "Collecting apyori\n",
            "  Downloading https://files.pythonhosted.org/packages/5e/62/5ffde5c473ea4b033490617ec5caa80d59804875ad3c3c57c0976533a21a/apyori-1.1.2.tar.gz\n",
            "Building wheels for collected packages: apyori\n",
            "  Building wheel for apyori (setup.py) ... \u001b[?25l\u001b[?25hdone\n",
            "  Created wheel for apyori: filename=apyori-1.1.2-cp36-none-any.whl size=5975 sha256=06a0fc8bb6a5399a587a44eff60375fde32e9ad16f52867936540f2a51e05447\n",
            "  Stored in directory: /root/.cache/pip/wheels/5d/92/bb/474bbadbc8c0062b9eb168f69982a0443263f8ab1711a8cad0\n",
            "Successfully built apyori\n",
            "Installing collected packages: apyori\n",
            "Successfully installed apyori-1.1.2\n"
          ],
          "name": "stdout"
        }
      ]
    },
    {
      "cell_type": "code",
      "metadata": {
        "id": "UJfitBClsJlT",
        "colab_type": "code",
        "colab": {}
      },
      "source": [
        "import numpy as np\n",
        "import matplotlib.pyplot as plt\n",
        "import pandas as pd"
      ],
      "execution_count": 2,
      "outputs": []
    },
    {
      "cell_type": "markdown",
      "metadata": {
        "id": "vLt-7XUKsXBd",
        "colab_type": "text"
      },
      "source": [
        "## Data Preprocessing"
      ]
    },
    {
      "cell_type": "code",
      "metadata": {
        "id": "aib0nA9BfWAe",
        "colab_type": "code",
        "colab": {}
      },
      "source": [
        "dataset = pd.read_csv('New2.csv', header = None)\n",
        "transactions = []\n",
        "for i in range(0, 60):\n",
        "  transactions.append([str(dataset.values[i, j]) for j in range(0, 20)])"
      ],
      "execution_count": 3,
      "outputs": []
    },
    {
      "cell_type": "code",
      "metadata": {
        "id": "xgnJIoWNTmy6",
        "colab_type": "code",
        "colab": {}
      },
      "source": [
        "from apyori import apriori\n",
        "rules = apriori(transactions = transactions, min_support = 0.003, min_confidence = 0.2, min_lift = 3, min_lenght = 2, max_length = 2)"
      ],
      "execution_count": 4,
      "outputs": []
    },
    {
      "cell_type": "code",
      "metadata": {
        "id": "IYuIb--MVWLV",
        "colab_type": "code",
        "colab": {
          "base_uri": "https://localhost:8080/",
          "height": 176
        },
        "outputId": "29963926-17f5-42c2-b3a2-47b1c97b7b8b"
      },
      "source": [
        "results = list(rules)\n",
        "results"
      ],
      "execution_count": 5,
      "outputs": [
        {
          "output_type": "execute_result",
          "data": {
            "text/plain": [
              "[RelationRecord(items=frozenset({'Economics', 'French'}), support=0.03333333333333333, ordered_statistics=[OrderedStatistic(items_base=frozenset({'Economics'}), items_add=frozenset({'French'}), confidence=0.22222222222222224, lift=4.444444444444445), OrderedStatistic(items_base=frozenset({'French'}), items_add=frozenset({'Economics'}), confidence=0.6666666666666666, lift=4.444444444444445)]),\n",
              " RelationRecord(items=frozenset({'Economics', 'Geography'}), support=0.1, ordered_statistics=[OrderedStatistic(items_base=frozenset({'Economics'}), items_add=frozenset({'Geography'}), confidence=0.6666666666666667, lift=3.076923076923077), OrderedStatistic(items_base=frozenset({'Geography'}), items_add=frozenset({'Economics'}), confidence=0.46153846153846156, lift=3.076923076923077)]),\n",
              " RelationRecord(items=frozenset({'Economics', 'Political Science'}), support=0.08333333333333333, ordered_statistics=[OrderedStatistic(items_base=frozenset({'Economics'}), items_add=frozenset({'Political Science'}), confidence=0.5555555555555556, lift=4.761904761904762), OrderedStatistic(items_base=frozenset({'Political Science'}), items_add=frozenset({'Economics'}), confidence=0.7142857142857142, lift=4.761904761904762)]),\n",
              " RelationRecord(items=frozenset({'Geography', 'French'}), support=0.03333333333333333, ordered_statistics=[OrderedStatistic(items_base=frozenset({'French'}), items_add=frozenset({'Geography'}), confidence=0.6666666666666666, lift=3.0769230769230766)]),\n",
              " RelationRecord(items=frozenset({'Politics', 'French'}), support=0.03333333333333333, ordered_statistics=[OrderedStatistic(items_base=frozenset({'French'}), items_add=frozenset({'Politics'}), confidence=0.6666666666666666, lift=3.0769230769230766)]),\n",
              " RelationRecord(items=frozenset({'Political Science', 'Geography'}), support=0.08333333333333333, ordered_statistics=[OrderedStatistic(items_base=frozenset({'Geography'}), items_add=frozenset({'Political Science'}), confidence=0.3846153846153846, lift=3.2967032967032965), OrderedStatistic(items_base=frozenset({'Political Science'}), items_add=frozenset({'Geography'}), confidence=0.7142857142857142, lift=3.296703296703296)]),\n",
              " RelationRecord(items=frozenset({'Politics', 'German'}), support=0.03333333333333333, ordered_statistics=[OrderedStatistic(items_base=frozenset({'German'}), items_add=frozenset({'Politics'}), confidence=0.6666666666666666, lift=3.0769230769230766)]),\n",
              " RelationRecord(items=frozenset({'Hindi', 'Marathi'}), support=0.06666666666666667, ordered_statistics=[OrderedStatistic(items_base=frozenset({'Hindi'}), items_add=frozenset({'Marathi'}), confidence=0.5714285714285714, lift=3.116883116883117), OrderedStatistic(items_base=frozenset({'Marathi'}), items_add=frozenset({'Hindi'}), confidence=0.36363636363636365, lift=3.116883116883117)])]"
            ]
          },
          "metadata": {
            "tags": []
          },
          "execution_count": 5
        }
      ]
    },
    {
      "cell_type": "code",
      "metadata": {
        "id": "DJsSOW39WVie",
        "colab_type": "code",
        "colab": {}
      },
      "source": [
        "def inspect(results):\n",
        "    lhs         = [tuple(result[2][0][0])[0] for result in results]\n",
        "    rhs         = [tuple(result[2][0][1])[0] for result in results]\n",
        "    supports    = [result[1] for result in results]\n",
        "    confidences = [result[2][0][2] for result in results]\n",
        "    lifts       = [result[2][0][3] for result in results]\n",
        "    return list(zip(lhs, rhs, supports, confidences, lifts))\n",
        "resultsinDataFrame = pd.DataFrame(inspect(results), columns = ['Left Hand Side', 'Right Hand Side', 'Support', 'Confidence', 'Lift'])"
      ],
      "execution_count": 6,
      "outputs": []
    },
    {
      "cell_type": "code",
      "metadata": {
        "id": "OdeS_3hHWmru",
        "colab_type": "code",
        "colab": {
          "base_uri": "https://localhost:8080/",
          "height": 294
        },
        "outputId": "dbf70453-4e21-4290-cb1f-96c5f084e1c6"
      },
      "source": [
        "resultsinDataFrame"
      ],
      "execution_count": 7,
      "outputs": [
        {
          "output_type": "execute_result",
          "data": {
            "text/html": [
              "<div>\n",
              "<style scoped>\n",
              "    .dataframe tbody tr th:only-of-type {\n",
              "        vertical-align: middle;\n",
              "    }\n",
              "\n",
              "    .dataframe tbody tr th {\n",
              "        vertical-align: top;\n",
              "    }\n",
              "\n",
              "    .dataframe thead th {\n",
              "        text-align: right;\n",
              "    }\n",
              "</style>\n",
              "<table border=\"1\" class=\"dataframe\">\n",
              "  <thead>\n",
              "    <tr style=\"text-align: right;\">\n",
              "      <th></th>\n",
              "      <th>Left Hand Side</th>\n",
              "      <th>Right Hand Side</th>\n",
              "      <th>Support</th>\n",
              "      <th>Confidence</th>\n",
              "      <th>Lift</th>\n",
              "    </tr>\n",
              "  </thead>\n",
              "  <tbody>\n",
              "    <tr>\n",
              "      <th>0</th>\n",
              "      <td>Economics</td>\n",
              "      <td>French</td>\n",
              "      <td>0.033333</td>\n",
              "      <td>0.222222</td>\n",
              "      <td>4.444444</td>\n",
              "    </tr>\n",
              "    <tr>\n",
              "      <th>1</th>\n",
              "      <td>Economics</td>\n",
              "      <td>Geography</td>\n",
              "      <td>0.100000</td>\n",
              "      <td>0.666667</td>\n",
              "      <td>3.076923</td>\n",
              "    </tr>\n",
              "    <tr>\n",
              "      <th>2</th>\n",
              "      <td>Economics</td>\n",
              "      <td>Political Science</td>\n",
              "      <td>0.083333</td>\n",
              "      <td>0.555556</td>\n",
              "      <td>4.761905</td>\n",
              "    </tr>\n",
              "    <tr>\n",
              "      <th>3</th>\n",
              "      <td>French</td>\n",
              "      <td>Geography</td>\n",
              "      <td>0.033333</td>\n",
              "      <td>0.666667</td>\n",
              "      <td>3.076923</td>\n",
              "    </tr>\n",
              "    <tr>\n",
              "      <th>4</th>\n",
              "      <td>French</td>\n",
              "      <td>Politics</td>\n",
              "      <td>0.033333</td>\n",
              "      <td>0.666667</td>\n",
              "      <td>3.076923</td>\n",
              "    </tr>\n",
              "    <tr>\n",
              "      <th>5</th>\n",
              "      <td>Geography</td>\n",
              "      <td>Political Science</td>\n",
              "      <td>0.083333</td>\n",
              "      <td>0.384615</td>\n",
              "      <td>3.296703</td>\n",
              "    </tr>\n",
              "    <tr>\n",
              "      <th>6</th>\n",
              "      <td>German</td>\n",
              "      <td>Politics</td>\n",
              "      <td>0.033333</td>\n",
              "      <td>0.666667</td>\n",
              "      <td>3.076923</td>\n",
              "    </tr>\n",
              "    <tr>\n",
              "      <th>7</th>\n",
              "      <td>Hindi</td>\n",
              "      <td>Marathi</td>\n",
              "      <td>0.066667</td>\n",
              "      <td>0.571429</td>\n",
              "      <td>3.116883</td>\n",
              "    </tr>\n",
              "  </tbody>\n",
              "</table>\n",
              "</div>"
            ],
            "text/plain": [
              "  Left Hand Side    Right Hand Side   Support  Confidence      Lift\n",
              "0      Economics             French  0.033333    0.222222  4.444444\n",
              "1      Economics          Geography  0.100000    0.666667  3.076923\n",
              "2      Economics  Political Science  0.083333    0.555556  4.761905\n",
              "3         French          Geography  0.033333    0.666667  3.076923\n",
              "4         French           Politics  0.033333    0.666667  3.076923\n",
              "5      Geography  Political Science  0.083333    0.384615  3.296703\n",
              "6         German           Politics  0.033333    0.666667  3.076923\n",
              "7          Hindi            Marathi  0.066667    0.571429  3.116883"
            ]
          },
          "metadata": {
            "tags": []
          },
          "execution_count": 7
        }
      ]
    },
    {
      "cell_type": "code",
      "metadata": {
        "id": "NmV7NXuoWqPa",
        "colab_type": "code",
        "colab": {
          "base_uri": "https://localhost:8080/",
          "height": 294
        },
        "outputId": "bef4c69f-e5aa-42e3-aaf3-beeabbb0b57b"
      },
      "source": [
        "resultsinDataFrame.nlargest(n = 10, columns = 'Lift')"
      ],
      "execution_count": 8,
      "outputs": [
        {
          "output_type": "execute_result",
          "data": {
            "text/html": [
              "<div>\n",
              "<style scoped>\n",
              "    .dataframe tbody tr th:only-of-type {\n",
              "        vertical-align: middle;\n",
              "    }\n",
              "\n",
              "    .dataframe tbody tr th {\n",
              "        vertical-align: top;\n",
              "    }\n",
              "\n",
              "    .dataframe thead th {\n",
              "        text-align: right;\n",
              "    }\n",
              "</style>\n",
              "<table border=\"1\" class=\"dataframe\">\n",
              "  <thead>\n",
              "    <tr style=\"text-align: right;\">\n",
              "      <th></th>\n",
              "      <th>Left Hand Side</th>\n",
              "      <th>Right Hand Side</th>\n",
              "      <th>Support</th>\n",
              "      <th>Confidence</th>\n",
              "      <th>Lift</th>\n",
              "    </tr>\n",
              "  </thead>\n",
              "  <tbody>\n",
              "    <tr>\n",
              "      <th>2</th>\n",
              "      <td>Economics</td>\n",
              "      <td>Political Science</td>\n",
              "      <td>0.083333</td>\n",
              "      <td>0.555556</td>\n",
              "      <td>4.761905</td>\n",
              "    </tr>\n",
              "    <tr>\n",
              "      <th>0</th>\n",
              "      <td>Economics</td>\n",
              "      <td>French</td>\n",
              "      <td>0.033333</td>\n",
              "      <td>0.222222</td>\n",
              "      <td>4.444444</td>\n",
              "    </tr>\n",
              "    <tr>\n",
              "      <th>5</th>\n",
              "      <td>Geography</td>\n",
              "      <td>Political Science</td>\n",
              "      <td>0.083333</td>\n",
              "      <td>0.384615</td>\n",
              "      <td>3.296703</td>\n",
              "    </tr>\n",
              "    <tr>\n",
              "      <th>7</th>\n",
              "      <td>Hindi</td>\n",
              "      <td>Marathi</td>\n",
              "      <td>0.066667</td>\n",
              "      <td>0.571429</td>\n",
              "      <td>3.116883</td>\n",
              "    </tr>\n",
              "    <tr>\n",
              "      <th>1</th>\n",
              "      <td>Economics</td>\n",
              "      <td>Geography</td>\n",
              "      <td>0.100000</td>\n",
              "      <td>0.666667</td>\n",
              "      <td>3.076923</td>\n",
              "    </tr>\n",
              "    <tr>\n",
              "      <th>3</th>\n",
              "      <td>French</td>\n",
              "      <td>Geography</td>\n",
              "      <td>0.033333</td>\n",
              "      <td>0.666667</td>\n",
              "      <td>3.076923</td>\n",
              "    </tr>\n",
              "    <tr>\n",
              "      <th>4</th>\n",
              "      <td>French</td>\n",
              "      <td>Politics</td>\n",
              "      <td>0.033333</td>\n",
              "      <td>0.666667</td>\n",
              "      <td>3.076923</td>\n",
              "    </tr>\n",
              "    <tr>\n",
              "      <th>6</th>\n",
              "      <td>German</td>\n",
              "      <td>Politics</td>\n",
              "      <td>0.033333</td>\n",
              "      <td>0.666667</td>\n",
              "      <td>3.076923</td>\n",
              "    </tr>\n",
              "  </tbody>\n",
              "</table>\n",
              "</div>"
            ],
            "text/plain": [
              "  Left Hand Side    Right Hand Side   Support  Confidence      Lift\n",
              "2      Economics  Political Science  0.083333    0.555556  4.761905\n",
              "0      Economics             French  0.033333    0.222222  4.444444\n",
              "5      Geography  Political Science  0.083333    0.384615  3.296703\n",
              "7          Hindi            Marathi  0.066667    0.571429  3.116883\n",
              "1      Economics          Geography  0.100000    0.666667  3.076923\n",
              "3         French          Geography  0.033333    0.666667  3.076923\n",
              "4         French           Politics  0.033333    0.666667  3.076923\n",
              "6         German           Politics  0.033333    0.666667  3.076923"
            ]
          },
          "metadata": {
            "tags": []
          },
          "execution_count": 8
        }
      ]
    },
    {
      "cell_type": "code",
      "metadata": {
        "id": "33iJocdr-2uz",
        "colab_type": "code",
        "colab": {
          "base_uri": "https://localhost:8080/",
          "height": 294
        },
        "outputId": "51e62f00-74eb-46de-e7e8-0aed4cc9dfaf"
      },
      "source": [
        "resultsinDataFrame.nlargest(n = 10, columns = 'Confidence')"
      ],
      "execution_count": 9,
      "outputs": [
        {
          "output_type": "execute_result",
          "data": {
            "text/html": [
              "<div>\n",
              "<style scoped>\n",
              "    .dataframe tbody tr th:only-of-type {\n",
              "        vertical-align: middle;\n",
              "    }\n",
              "\n",
              "    .dataframe tbody tr th {\n",
              "        vertical-align: top;\n",
              "    }\n",
              "\n",
              "    .dataframe thead th {\n",
              "        text-align: right;\n",
              "    }\n",
              "</style>\n",
              "<table border=\"1\" class=\"dataframe\">\n",
              "  <thead>\n",
              "    <tr style=\"text-align: right;\">\n",
              "      <th></th>\n",
              "      <th>Left Hand Side</th>\n",
              "      <th>Right Hand Side</th>\n",
              "      <th>Support</th>\n",
              "      <th>Confidence</th>\n",
              "      <th>Lift</th>\n",
              "    </tr>\n",
              "  </thead>\n",
              "  <tbody>\n",
              "    <tr>\n",
              "      <th>1</th>\n",
              "      <td>Economics</td>\n",
              "      <td>Geography</td>\n",
              "      <td>0.100000</td>\n",
              "      <td>0.666667</td>\n",
              "      <td>3.076923</td>\n",
              "    </tr>\n",
              "    <tr>\n",
              "      <th>3</th>\n",
              "      <td>French</td>\n",
              "      <td>Geography</td>\n",
              "      <td>0.033333</td>\n",
              "      <td>0.666667</td>\n",
              "      <td>3.076923</td>\n",
              "    </tr>\n",
              "    <tr>\n",
              "      <th>4</th>\n",
              "      <td>French</td>\n",
              "      <td>Politics</td>\n",
              "      <td>0.033333</td>\n",
              "      <td>0.666667</td>\n",
              "      <td>3.076923</td>\n",
              "    </tr>\n",
              "    <tr>\n",
              "      <th>6</th>\n",
              "      <td>German</td>\n",
              "      <td>Politics</td>\n",
              "      <td>0.033333</td>\n",
              "      <td>0.666667</td>\n",
              "      <td>3.076923</td>\n",
              "    </tr>\n",
              "    <tr>\n",
              "      <th>7</th>\n",
              "      <td>Hindi</td>\n",
              "      <td>Marathi</td>\n",
              "      <td>0.066667</td>\n",
              "      <td>0.571429</td>\n",
              "      <td>3.116883</td>\n",
              "    </tr>\n",
              "    <tr>\n",
              "      <th>2</th>\n",
              "      <td>Economics</td>\n",
              "      <td>Political Science</td>\n",
              "      <td>0.083333</td>\n",
              "      <td>0.555556</td>\n",
              "      <td>4.761905</td>\n",
              "    </tr>\n",
              "    <tr>\n",
              "      <th>5</th>\n",
              "      <td>Geography</td>\n",
              "      <td>Political Science</td>\n",
              "      <td>0.083333</td>\n",
              "      <td>0.384615</td>\n",
              "      <td>3.296703</td>\n",
              "    </tr>\n",
              "    <tr>\n",
              "      <th>0</th>\n",
              "      <td>Economics</td>\n",
              "      <td>French</td>\n",
              "      <td>0.033333</td>\n",
              "      <td>0.222222</td>\n",
              "      <td>4.444444</td>\n",
              "    </tr>\n",
              "  </tbody>\n",
              "</table>\n",
              "</div>"
            ],
            "text/plain": [
              "  Left Hand Side    Right Hand Side   Support  Confidence      Lift\n",
              "1      Economics          Geography  0.100000    0.666667  3.076923\n",
              "3         French          Geography  0.033333    0.666667  3.076923\n",
              "4         French           Politics  0.033333    0.666667  3.076923\n",
              "6         German           Politics  0.033333    0.666667  3.076923\n",
              "7          Hindi            Marathi  0.066667    0.571429  3.116883\n",
              "2      Economics  Political Science  0.083333    0.555556  4.761905\n",
              "5      Geography  Political Science  0.083333    0.384615  3.296703\n",
              "0      Economics             French  0.033333    0.222222  4.444444"
            ]
          },
          "metadata": {
            "tags": []
          },
          "execution_count": 9
        }
      ]
    }
  ]
}